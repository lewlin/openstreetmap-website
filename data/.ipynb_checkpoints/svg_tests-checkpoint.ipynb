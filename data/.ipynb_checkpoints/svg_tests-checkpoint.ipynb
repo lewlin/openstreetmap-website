{
 "cells": [
  {
   "cell_type": "markdown",
   "metadata": {},
   "source": [
    "- Official SVG documentation [path](https://www.w3.org/TR/SVG/paths.html)"
   ]
  },
  {
   "cell_type": "code",
   "execution_count": 2,
   "metadata": {},
   "outputs": [],
   "source": [
    "from svgpathtools import svg2paths"
   ]
  },
  {
   "cell_type": "code",
   "execution_count": 3,
   "metadata": {},
   "outputs": [],
   "source": [
    "paths, attributes = svg2paths('test_ann.svg')"
   ]
  },
  {
   "cell_type": "code",
   "execution_count": 6,
   "metadata": {},
   "outputs": [
    {
     "data": {
      "text/plain": [
       "14"
      ]
     },
     "execution_count": 6,
     "metadata": {},
     "output_type": "execute_result"
    }
   ],
   "source": [
    "len(paths)"
   ]
  },
  {
   "cell_type": "code",
   "execution_count": 8,
   "metadata": {},
   "outputs": [
    {
     "data": {
      "text/plain": [
       "14"
      ]
     },
     "execution_count": 8,
     "metadata": {},
     "output_type": "execute_result"
    }
   ],
   "source": [
    "len(attributes)"
   ]
  },
  {
   "cell_type": "code",
   "execution_count": 10,
   "metadata": {},
   "outputs": [],
   "source": [
    "path = paths[0]\n",
    "attribute = attributes[0]"
   ]
  },
  {
   "cell_type": "code",
   "execution_count": 12,
   "metadata": {},
   "outputs": [
    {
     "data": {
      "text/plain": [
       "svgpathtools.path.Path"
      ]
     },
     "execution_count": 12,
     "metadata": {},
     "output_type": "execute_result"
    }
   ],
   "source": [
    "type(path)"
   ]
  },
  {
   "cell_type": "code",
   "execution_count": 14,
   "metadata": {},
   "outputs": [
    {
     "data": {
      "text/plain": [
       "'M3318.444,3094.128    c-59.808,76.077-128.246,143.62-207.248,194.036c-229.706,146.558-539.955,107.51-730.737-79.995    c-89.62-88.094-135.555-192.358-199.033-297.218c-118.729-196.125-153.797-397.761-141.339-623.244    c7.776-140.731,42.524-292.876,96.752-423.201c60.294-144.885,117.981-310.193,210.609-437.621    c68.046-93.606,134.66-185.9,259.727-200.572c136.329-15.99,280.44-10.142,414.841,18.74    c133.079,28.597,253.518,128.782,347.307,223.214c53.274,53.642,121.426,111.062,159.803,176.819    c66.16,113.364,114.047,200.839,135.421,330.854c41.195,250.508-26.38,529.449-133.687,758.083    C3474.339,2854.458,3405.542,2983.347,3318.444,3094.128z'"
      ]
     },
     "execution_count": 14,
     "metadata": {},
     "output_type": "execute_result"
    }
   ],
   "source": [
    "attribute['d']"
   ]
  },
  {
   "cell_type": "code",
   "execution_count": 19,
   "metadata": {},
   "outputs": [
    {
     "data": {
      "text/plain": [
       "\u001b[0;31mSignature:\u001b[0m \u001b[0mpath\u001b[0m\u001b[0;34m.\u001b[0m\u001b[0mt2T\u001b[0m\u001b[0;34m(\u001b[0m\u001b[0mseg\u001b[0m\u001b[0;34m,\u001b[0m \u001b[0mt\u001b[0m\u001b[0;34m)\u001b[0m\u001b[0;34m\u001b[0m\u001b[0;34m\u001b[0m\u001b[0m\n",
       "\u001b[0;31mDocstring:\u001b[0m\n",
       "returns the path parameter T which corresponds to the segment\n",
       "parameter t.  In other words, for any Path object, path, and any\n",
       "segment in path, seg,  T(t) = path.t2T(seg, t) is the unique\n",
       "reparameterization such that path.point(T(t)) == seg.point(t) for all\n",
       "0 <= t <= 1.\n",
       "Input Note: seg can be a segment in the Path object or its\n",
       "corresponding index.\n",
       "\u001b[0;31mFile:\u001b[0m      ~/miniconda3/envs/brain/lib/python3.6/site-packages/svgpathtools/path.py\n",
       "\u001b[0;31mType:\u001b[0m      method\n"
      ]
     },
     "metadata": {},
     "output_type": "display_data"
    }
   ],
   "source": [
    "path.t2T?"
   ]
  },
  {
   "cell_type": "code",
   "execution_count": null,
   "metadata": {},
   "outputs": [],
   "source": []
  }
 ],
 "metadata": {
  "kernelspec": {
   "display_name": "Python 3",
   "language": "python",
   "name": "python3"
  },
  "language_info": {
   "codemirror_mode": {
    "name": "ipython",
    "version": 3
   },
   "file_extension": ".py",
   "mimetype": "text/x-python",
   "name": "python",
   "nbconvert_exporter": "python",
   "pygments_lexer": "ipython3",
   "version": "3.6.8"
  }
 },
 "nbformat": 4,
 "nbformat_minor": 2
}
